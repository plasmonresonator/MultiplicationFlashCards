{
 "cells": [
  {
   "cell_type": "code",
   "execution_count": 1,
   "metadata": {},
   "outputs": [],
   "source": [
    "import random, winsound, os, time\n",
    "from datetime import datetime\n"
   ]
  },
  {
   "cell_type": "code",
   "execution_count": 2,
   "metadata": {},
   "outputs": [],
   "source": [
    "right_answer_messages = ['Freaking awesome!  You got it right, I knew you could do it!!!', \n",
    "\t\t\t\t\t\t'Awesome-sauce!', 'You rock!!!',\n",
    "\t\t\t\t\t\t'You are a multiplication GENIUS!!!',\n",
    "\t\t\t\t\t\t'How did you get so smart?!?!',\n",
    "\t\t\t\t\t\t'Nice job! Keep it up!!!',\n",
    "\t\t\t\t\t\t'Nailed it!!  Here, check out this cat!\\n\\n\\t /\\\\_/\\\\\\n\\t( o.o )\\n\\t > ^ <\\n\\n',\n",
    "\t\t\t\t\t\t\"Perfect!  Look at this cute little lion:\\n\\n(\\\"`-''-/\\\").___..--''\\\"`-._\\n `6_ 6  )   `-.  (     ).`-.__.`)\\n (_Y_.)'  ._   )  `._ `. ``-..-' \\n   _..`--'_..-_/  /--'_.'\\n  ((((.-''  ((((.'  (((.-' \",\n",
    "\t\t\t\t\t\t]\n",
    "\n",
    "wrong_answer_messages = ['Oops! Either you got the wrong answer, or Daddy didn\\'t code this right! Let\\'s try another one...',\n",
    "\t\t\t\t\t\t'Almost! Maybe try one of your math strategies next time you\\'re having trouble?',\n",
    "\t\t\t\t\t\t'Oops! I know you can figure that one out, maybe you typed the wrong number by accident?',\n",
    "\t\t\t\t\t\t'Uh Oh! You missed that one, but I KNOW you can get the next one right!!',\n",
    "\t\t\t\t\t\t'Bummer, you missed that one, now you have to look at dog poop again!!! :-p ',\n",
    "\t\t\t\t\t\t]"
   ]
  },
  {
   "cell_type": "code",
   "execution_count": 3,
   "metadata": {},
   "outputs": [],
   "source": [
    "path = os.getcwd()\n",
    "sound_path = 'c:\\\\windows\\\\media\\\\'\n",
    "def play_correct_sound():\n",
    "\tos.chdir(sound_path)\n",
    "\twinsound.PlaySound('Windows Exclamation.wav', winsound.SND_FILENAME)\n",
    "\tos.chdir(path)\n",
    "\t\n",
    "\n",
    "\n",
    "def play_wrong_sound():\n",
    "\tos.chdir(sound_path)\n",
    "\twinsound.PlaySound('ir_begin.wav', winsound.SND_FILENAME)\n",
    "\tos.chdir(path)"
   ]
  },
  {
   "cell_type": "code",
   "execution_count": 4,
   "metadata": {},
   "outputs": [],
   "source": [
    "play_correct_sound()"
   ]
  },
  {
   "cell_type": "code",
   "execution_count": 5,
   "metadata": {},
   "outputs": [],
   "source": [
    "def get_problem(problem, round=1):\n",
    "    num1 = problem[0]\n",
    "    num2 = problem[1]\n",
    "    show = f'{num1} x {num2} ?\\t'\n",
    "    answer = input(f\"What is {show}\")\n",
    "    #NEED TO HANDLE FOR IF AN INTEGER IS NOT ENTERED\n",
    "    calc = num1*num2\n",
    "    print(calc)\n",
    "    answer = int(answer)\n",
    "    if answer == calc:\n",
    "        play_correct_sound()\n",
    "        print(random.choice(right_answer_messages))\n",
    "        correct.append(problem)\n",
    "        \n",
    "    else:\n",
    "        if round == 1:\n",
    "            print(f\"Sorry, the correct answer is {calc}.\\n\\tWe'll revisit that one again later.\")\n",
    "            wrong.append(problem)\n",
    "        else:\n",
    "            print(f\"Oops!  The correct answer is {calc}.\")\n",
    "            wrong2.append(problem)\n",
    "    "
   ]
  },
  {
   "cell_type": "code",
   "execution_count": 25,
   "metadata": {},
   "outputs": [],
   "source": [
    "common_numbers = [0, 10, 12]\n",
    "test_numbers = []\n",
    "practice_selection = []\n",
    "# all_problems = [[10, 0], [11, 11], [5, 11], [10, 1]]\n",
    "\n",
    "all_problems = []\n",
    "correct = []\n",
    "wrong = []\n",
    "wrong2 = []"
   ]
  },
  {
   "cell_type": "code",
   "execution_count": 32,
   "metadata": {},
   "outputs": [
    {
     "name": "stdout",
     "output_type": "stream",
     "text": [
      "How many numbers do you want to practice today?\ta\n",
      "That's not a number, please try entering a number again.\n",
      "How many numbers do you want to practice today?\ta\n",
      "That's not a number, please try entering a number again.\n",
      "How many numbers do you want to practice today?\ta\n",
      "That's not a number, please try entering a number again.\n",
      "How many numbers do you want to practice today?\t2\n",
      "Enter the first number you want to practice today:\ta\n",
      "You already added that number, here are the numbers you are working on so far: ['a', '1', '10']\n",
      "Enter the next number you'd like to practice today:\ta\n",
      "So far you will be practicing these numbers: ['a', '1', '10', 'a'].\n",
      "\n",
      "Enter the next number you'd like to practice today:\ta\n",
      "You already added that number, here are the numbers you are working on so far: ['a', '1', '10', 'a']\n",
      "Enter the next number you'd like to practice today:\tb\n",
      "So far you will be practicing these numbers: ['a', '1', '10', 'a', 'b'].\n",
      "\n"
     ]
    }
   ],
   "source": [
    "while True:\n",
    "    howmany = input('How many numbers do you want to practice today?\\t')\n",
    "    \n",
    "    try:\n",
    "        howmany = int(howmany)\n",
    "        if howmany > 0:\n",
    "            break\n",
    "    except:\n",
    "        print(\"That's not a number, please try entering a number again.\")\n",
    "    \n",
    "for i in range(howmany):\n",
    "    if i == 0:\n",
    "        practice_nums = input(\"Enter the first number you want to practice today:\\t\")\n",
    "    else:\n",
    "        practice_nums = input(\"Enter the next number you'd like to practice today:\\t\")\n",
    "    \n",
    "    if practice_nums in practice_selection:\n",
    "        print(f\"You already added that number, here are the numbers you are working on so far: {practice_selection}\")\n",
    "        practice_nums = input(\"Enter the next number you'd like to practice today:\\t\")\n",
    "    \n",
    "    practice_selection.append(practice_nums)\n",
    "        \n",
    "    print(f\"So far you will be practicing these numbers: {practice_selection}.\\n\")\n"
   ]
  },
  {
   "cell_type": "code",
   "execution_count": 33,
   "metadata": {},
   "outputs": [
    {
     "name": "stdout",
     "output_type": "stream",
     "text": [
      "a is not a number.\n",
      "1 is a number.\n",
      "10 is a number.\n",
      "a is not a number.\n",
      "b is not a number.\n"
     ]
    },
    {
     "data": {
      "text/plain": [
       "[1, 10, 1, 10]"
      ]
     },
     "execution_count": 33,
     "metadata": {},
     "output_type": "execute_result"
    }
   ],
   "source": [
    "for i in practice_selection:\n",
    "    try:\n",
    "        int(i)\n",
    "        print(f\"{i} is a number.\")\n",
    "        test_numbers.append(int(i))\n",
    "    except:\n",
    "        print(f\"{i} is not a number.\")\n",
    "test_numbers"
   ]
  },
  {
   "cell_type": "code",
   "execution_count": 29,
   "metadata": {},
   "outputs": [
    {
     "name": "stdout",
     "output_type": "stream",
     "text": [
      "You have 6 in this set\n",
      "[[1, 0], [1, 10], [1, 12], [10, 0], [10, 10], [10, 12]]\n"
     ]
    }
   ],
   "source": [
    "all_problems = []\n",
    "correct = []\n",
    "wrong = []\n",
    "for test in test_numbers:\n",
    "    for comm in common_numbers:\n",
    "        all_problems.append([test, comm])\n",
    "print(f'You have {len(all_problems)} in this set')\n",
    "print(all_problems)"
   ]
  },
  {
   "cell_type": "code",
   "execution_count": 30,
   "metadata": {},
   "outputs": [
    {
     "name": "stdout",
     "output_type": "stream",
     "text": [
      "What is 1 x 10 ?\t0\n",
      "10\n",
      "Sorry, the correct answer is 10.\n",
      "\tWe'll revisit that one again later.\n",
      "What is 10 x 12 ?\t12\n",
      "120\n",
      "Sorry, the correct answer is 120.\n",
      "\tWe'll revisit that one again later.\n",
      "What is 1 x 12 ?\t12\n",
      "12\n",
      "You rock!!!\n",
      "What is 10 x 0 ?\t0\n",
      "0\n",
      "Nailed it!!  Here, check out this cat!\n",
      "\n",
      "\t /\\_/\\\n",
      "\t( o.o )\n",
      "\t > ^ <\n",
      "\n",
      "\n",
      "What is 10 x 10 ?\t100\n",
      "100\n",
      "How did you get so smart?!?!\n",
      "What is 1 x 0 ?\t0\n",
      "0\n",
      "Freaking awesome!  You got it right, I knew you could do it!!!\n",
      "What is 1 x 10 ?\t0\n",
      "10\n",
      "Oops!  The correct answer is 10.\n",
      "What is 10 x 12 ?\t120\n",
      "120\n",
      "How did you get so smart?!?!\n"
     ]
    }
   ],
   "source": [
    "random.shuffle(all_problems)\n",
    "while len(all_problems) >= 1:\n",
    "    current_problem = all_problems.pop()\n",
    "    get_problem(current_problem)\n",
    "    \n",
    "random.shuffle(wrong)\n",
    "while len(wrong) >= 1:\n",
    "    current_problem = wrong.pop()\n",
    "    get_problem(current_problem, 2)"
   ]
  },
  {
   "cell_type": "code",
   "execution_count": 31,
   "metadata": {},
   "outputs": [
    {
     "name": "stdout",
     "output_type": "stream",
     "text": [
      "[[1, 12], [10, 0], [10, 10], [1, 0], [10, 12]]\n",
      "[]\n",
      "[[1, 10]]\n"
     ]
    }
   ],
   "source": [
    "print(correct)\n",
    "print(wrong)\n",
    "print(wrong2)"
   ]
  },
  {
   "cell_type": "code",
   "execution_count": 35,
   "metadata": {},
   "outputs": [],
   "source": [
    "list1 = [0, 1, 2, 3, 4, 5, 6, 7, 8, 9, 10, 11, 12]\n",
    "list2 = [0, 1, 2, 3, 4, 5, 6, 7, 8, 9, 10, 11, 12]"
   ]
  },
  {
   "cell_type": "code",
   "execution_count": 38,
   "metadata": {},
   "outputs": [
    {
     "name": "stdout",
     "output_type": "stream",
     "text": [
      "91\n"
     ]
    }
   ],
   "source": [
    "simple = []\n",
    "for i in list1:\n",
    "    for j in list2:\n",
    "        if [j, i] in simple:\n",
    "            pass\n",
    "        else:\n",
    "            simple.append([i, j])\n",
    "        \n",
    "print(len(simple))"
   ]
  },
  {
   "cell_type": "code",
   "execution_count": null,
   "metadata": {},
   "outputs": [],
   "source": [
    "simple is 169"
   ]
  },
  {
   "cell_type": "code",
   "execution_count": 40,
   "metadata": {},
   "outputs": [
    {
     "data": {
      "text/plain": [
       "[[0, 0],\n",
       " [0, 1],\n",
       " [0, 2],\n",
       " [0, 3],\n",
       " [0, 4],\n",
       " [0, 5],\n",
       " [0, 6],\n",
       " [0, 7],\n",
       " [0, 8],\n",
       " [0, 9],\n",
       " [0, 10],\n",
       " [0, 11],\n",
       " [0, 12],\n",
       " [1, 1],\n",
       " [1, 2],\n",
       " [1, 3],\n",
       " [1, 4],\n",
       " [1, 5],\n",
       " [1, 6],\n",
       " [1, 7],\n",
       " [1, 8],\n",
       " [1, 9],\n",
       " [1, 10],\n",
       " [1, 11],\n",
       " [1, 12],\n",
       " [2, 2],\n",
       " [2, 3],\n",
       " [2, 4],\n",
       " [2, 5],\n",
       " [2, 6],\n",
       " [2, 7],\n",
       " [2, 8],\n",
       " [2, 9],\n",
       " [2, 10],\n",
       " [2, 11],\n",
       " [2, 12],\n",
       " [3, 3],\n",
       " [3, 4],\n",
       " [3, 5],\n",
       " [3, 6],\n",
       " [3, 7],\n",
       " [3, 8],\n",
       " [3, 9],\n",
       " [3, 10],\n",
       " [3, 11],\n",
       " [3, 12],\n",
       " [4, 4],\n",
       " [4, 5],\n",
       " [4, 6],\n",
       " [4, 7],\n",
       " [4, 8],\n",
       " [4, 9],\n",
       " [4, 10],\n",
       " [4, 11],\n",
       " [4, 12],\n",
       " [5, 5],\n",
       " [5, 6],\n",
       " [5, 7],\n",
       " [5, 8],\n",
       " [5, 9],\n",
       " [5, 10],\n",
       " [5, 11],\n",
       " [5, 12],\n",
       " [6, 6],\n",
       " [6, 7],\n",
       " [6, 8],\n",
       " [6, 9],\n",
       " [6, 10],\n",
       " [6, 11],\n",
       " [6, 12],\n",
       " [7, 7],\n",
       " [7, 8],\n",
       " [7, 9],\n",
       " [7, 10],\n",
       " [7, 11],\n",
       " [7, 12],\n",
       " [8, 8],\n",
       " [8, 9],\n",
       " [8, 10],\n",
       " [8, 11],\n",
       " [8, 12],\n",
       " [9, 9],\n",
       " [9, 10],\n",
       " [9, 11],\n",
       " [9, 12],\n",
       " [10, 10],\n",
       " [10, 11],\n",
       " [10, 12],\n",
       " [11, 11],\n",
       " [11, 12],\n",
       " [12, 12]]"
      ]
     },
     "execution_count": 40,
     "metadata": {},
     "output_type": "execute_result"
    }
   ],
   "source": [
    "simple"
   ]
  },
  {
   "cell_type": "code",
   "execution_count": null,
   "metadata": {},
   "outputs": [],
   "source": []
  },
  {
   "cell_type": "code",
   "execution_count": null,
   "metadata": {},
   "outputs": [],
   "source": []
  },
  {
   "cell_type": "code",
   "execution_count": null,
   "metadata": {},
   "outputs": [],
   "source": []
  },
  {
   "cell_type": "code",
   "execution_count": null,
   "metadata": {},
   "outputs": [],
   "source": []
  },
  {
   "cell_type": "code",
   "execution_count": null,
   "metadata": {},
   "outputs": [],
   "source": []
  },
  {
   "cell_type": "code",
   "execution_count": null,
   "metadata": {},
   "outputs": [],
   "source": []
  },
  {
   "cell_type": "code",
   "execution_count": null,
   "metadata": {},
   "outputs": [],
   "source": []
  },
  {
   "cell_type": "code",
   "execution_count": null,
   "metadata": {},
   "outputs": [],
   "source": []
  },
  {
   "cell_type": "code",
   "execution_count": null,
   "metadata": {},
   "outputs": [],
   "source": []
  }
 ],
 "metadata": {
  "kernelspec": {
   "display_name": "Python 3",
   "language": "python",
   "name": "python3"
  },
  "language_info": {
   "codemirror_mode": {
    "name": "ipython",
    "version": 3
   },
   "file_extension": ".py",
   "mimetype": "text/x-python",
   "name": "python",
   "nbconvert_exporter": "python",
   "pygments_lexer": "ipython3",
   "version": "3.7.2"
  }
 },
 "nbformat": 4,
 "nbformat_minor": 2
}
